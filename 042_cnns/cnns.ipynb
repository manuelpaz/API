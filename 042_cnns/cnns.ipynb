{
  "cells": [
    {
      "cell_type": "markdown",
      "metadata": {
        "id": "view-in-github",
        "colab_type": "text"
      },
      "source": [
        "<a href=\"https://colab.research.google.com/github/manuelpaz/API/blob/master/042_cnns/cnns.ipynb\" target=\"_parent\"><img src=\"https://colab.research.google.com/assets/colab-badge.svg\" alt=\"Open In Colab\"/></a>"
      ]
    },
    {
      "cell_type": "markdown",
      "metadata": {
        "id": "Yg90deR13qYE"
      },
      "source": [
        "[![Open In Colab](https://colab.research.google.com/assets/colab-badge.svg)](https://colab.research.google.com/github/sensioai/blog/blob/master/042_cnns/cnns.ipynb)"
      ]
    },
    {
      "cell_type": "markdown",
      "metadata": {
        "id": "bb-gumIRlGJi"
      },
      "source": [
        "# Redes Neuronales Convolucionales"
      ]
    },
    {
      "cell_type": "markdown",
      "metadata": {
        "id": "Ec6J9qIylGJi"
      },
      "source": [
        "En posts anteriores hemos presentado varias arquitecturas diferentes de `redes neuronales`. Algunos ejemplos son el [`Perceptrón Multicapa`](https://sensioai.com/blog/023_mlp_backprop) o las [`redes neuronales recurrentes`](https://sensioai.com/blog/034_rnn_intro), las cuales hemos aplicado para [predicción de series temporales](https://sensioai.com/blog/035_rnn_forecast) y varias aplicaciones de [lenguaje](https://sensioai.com/blog/038_clasificacion_texto). En este post vamos a presentar una nueva arquitectura de `red neuronal` conocida como `red neuronal convolucional`, especialmente diseñada para trabajar con imágenes."
      ]
    },
    {
      "cell_type": "markdown",
      "metadata": {
        "id": "bam1YkI8lGJj"
      },
      "source": [
        "## Introducción"
      ]
    },
    {
      "cell_type": "markdown",
      "metadata": {
        "id": "W9aUsS-olGJk"
      },
      "source": [
        "Las `redes neuronales convolucionales` (CNNs) surgieron del estudio del córtex visual del cerebro y se han utilizado en el reconocimiento de imágenes desde la década de los 80. En los últimos años, gracias al aumento de la potencia computacional, la cantidad de datos de entrenamiento disponibles y los trucos ya explicados anteriormente para entrenar redes profundas, las CNNs han logrado lograr un rendimiento sobrehumano en algunas tareas visuales complejas. Este tipo de red se puede encontrar en servicios de búsqueda de imágenes, coches autónomos, sistemas de clasificación de vídeo automático y muchas otras aplicaciones. Además, las CNNs no se limitan a la percepción visual, también tienen éxito en tareas como el reconocimiento de voz y el procesamiento de datos tridimensionales."
      ]
    },
    {
      "cell_type": "markdown",
      "metadata": {
        "id": "mPUAlMullGJk"
      },
      "source": [
        "### El córtex visual"
      ]
    },
    {
      "cell_type": "markdown",
      "metadata": {
        "id": "5uCeENh-lGJl"
      },
      "source": [
        "Las neuronas del córtex visual tienen un pequeño *campo receptivo local*, lo que significa que reaccionan solo a los estímulos visuales ubicados en una región limitada del campo visual. Los campos receptivos de diferentes neuronas pueden superponerse y juntos forman el campo visual completo.\n",
        "\n",
        "![](https://mymlpics.s3.eu-de.cloud-object-storage.appdomain.cloud/visual_cortex.png)\n",
        "\n",
        "Las neuronas de las primeras capas del córtex visual reaccionan solo ante ciertos patrones simples, como por ejemplo líneas horizontales mientras que otras reaccionan a líneas verticales (dos neuronas pueden tener el mismo campo receptivo pero reaccionan a diferentes orientaciones de línea). En las capas siguientes, las neuronas tienen campos receptivos más grandes y reaccionan a patrones más complejos, que pueden ser combinaciones de patrones de nivel inferior, construyendo de esta manera una jerarquía en diferentes capas que resultan finalmente en las formas y colores que vemos.\n",
        "\n",
        "Basándose en estos conceptos, Yann LeCunn introdujo las CNNs en 1998 en la famosa arquitectura [LeNet-5](https://colab.research.google.com/drive/1fqxaTs-Ux9KQHyCJsToFTZwSNoHv9rKe#scrollTo=CMK6qB1EdfqC), utilizada por los bancos para reconocer de manera automática los números manuscritos en cheques para un procesamiento más rápido."
      ]
    },
    {
      "cell_type": "markdown",
      "metadata": {
        "id": "pAEs12PulGJm"
      },
      "source": [
        "## La Capa Convolucional"
      ]
    },
    {
      "cell_type": "markdown",
      "metadata": {
        "id": "nWNsQZ89lGJn"
      },
      "source": [
        "Como veremos más adelante, las `redes convolucionales` están formadas por varias capas con diferente responsabilidad. De entre estas capas, la más importante es la `capa convolucional` la cual es responsable de identificar y construir las diferentes formas, colores y texturas de manera similar al córtex visual. Para llevar a cabo esta tarea usaremos un conjunto de *filtros* (también llamados *kernels*) los cuales deslizaremos por toda la imagen aplicando la operación *convolución*. Esta operación consiste en aplicar el producto escalar entre el filtro y los píxeles de la imagen cubiertos por el filtro, lo que se conoce como el *campo receptivo* (o *receptive field*). En el siguiente gif puedes ver esta operación en acción, en la que tenemos un filtro de 3x3 el cual deslizamos por nuestra imagen, la cual tiene una resolución de 5x5. Para cada posible posición del filtro dentro de la imagen, calculamos el producto de cada pixel por el valor del filtro correspondiente y guardamos el resultado en el mapa de salida.\n",
        "\n",
        "![](https://miro.medium.com/max/1052/1*GcI7G-JLAQiEoCON7xFbhg.gif)\n",
        "\n",
        "En este segundo ejemplo estamos aplicando la misma operación, pero ahora en el caso de que nuestra imagen tenga 3 canales (una imagen en color RGB). En este caso, nuestros filtros también tienen 3 canales. Además estamos aplicando más de un filtro, lo cual resulta en número de canales en el mapa de salida igual al número de filtros utilizados.\n",
        "\n",
        "![](https://cdn-media-1.freecodecamp.org/images/gb08-2i83P5wPzs3SL-vosNb6Iur5kb5ZH43)\n",
        "\n",
        "Vamos a ver un ejemplo de aplicación con imágenes reales, en este caso con imágenes del dataset CIFAR10 con el cual ya hemos trabajado anteriormente."
      ]
    },
    {
      "cell_type": "code",
      "execution_count": 1,
      "metadata": {
        "ExecuteTime": {
          "end_time": "2020-09-11T10:09:11.689701Z",
          "start_time": "2020-09-11T10:09:10.527700Z"
        },
        "id": "Go8WnlXxlGJn"
      },
      "outputs": [],
      "source": [
        "import torch\n",
        "import torchvision\n",
        "\n",
        "device = \"cuda\" if torch.cuda.is_available() else \"cpu\""
      ]
    },
    {
      "cell_type": "code",
      "execution_count": 2,
      "metadata": {
        "ExecuteTime": {
          "end_time": "2020-09-11T10:09:26.674543Z",
          "start_time": "2020-09-11T10:09:16.775743Z"
        },
        "id": "VBOeN0d_lGJp",
        "outputId": "c01ee3bf-61bc-4a5c-ef31-a933cff04d10",
        "colab": {
          "base_uri": "https://localhost:8080/"
        }
      },
      "outputs": [
        {
          "output_type": "stream",
          "name": "stdout",
          "text": [
            "Downloading https://www.cs.toronto.edu/~kriz/cifar-10-python.tar.gz to ./data/cifar-10-python.tar.gz\n"
          ]
        },
        {
          "output_type": "stream",
          "name": "stderr",
          "text": [
            "100%|██████████| 170M/170M [00:03<00:00, 43.5MB/s]\n"
          ]
        },
        {
          "output_type": "stream",
          "name": "stdout",
          "text": [
            "Extracting ./data/cifar-10-python.tar.gz to ./data\n",
            "Files already downloaded and verified\n"
          ]
        }
      ],
      "source": [
        "trainset = torchvision.datasets.CIFAR10(root='./data', train=True, download=True)\n",
        "\n",
        "testset = torchvision.datasets.CIFAR10(root='./data', train=False, download=True)\n",
        "\n",
        "classes = ('plane', 'car', 'bird', 'cat',\n",
        "           'deer', 'dog', 'frog', 'horse', 'ship', 'truck')"
      ]
    },
    {
      "cell_type": "code",
      "execution_count": 3,
      "metadata": {
        "ExecuteTime": {
          "end_time": "2020-09-11T10:09:36.429160Z",
          "start_time": "2020-09-11T10:09:32.689230Z"
        },
        "id": "7QDDUE2RlGJq",
        "outputId": "f942fc1c-4053-41a9-85d6-336dafeaa362",
        "colab": {
          "base_uri": "https://localhost:8080/"
        }
      },
      "outputs": [
        {
          "output_type": "execute_result",
          "data": {
            "text/plain": [
              "((50000, 32, 32, 3), (10000, 32, 32, 3))"
            ]
          },
          "metadata": {},
          "execution_count": 3
        }
      ],
      "source": [
        "import numpy as np\n",
        "\n",
        "train_imgs, train_labels = np.array([np.array(i[0]) for i in trainset]), np.array([i[1] for i in trainset])\n",
        "test_imgs, test_labels = np.array([np.array(i[0]) for i in testset]), np.array([i[1] for i in testset])\n",
        "\n",
        "train_imgs.shape, test_imgs.shape"
      ]
    },
    {
      "cell_type": "markdown",
      "metadata": {
        "id": "H_ipxnJ7lGJq"
      },
      "source": [
        "Una vez convertidas todas las imágenes a arrays de `Numpy`, vamos a visualizar un ejemplo aleatorio."
      ]
    },
    {
      "cell_type": "code",
      "execution_count": 4,
      "metadata": {
        "ExecuteTime": {
          "end_time": "2020-09-11T10:10:08.522205Z",
          "start_time": "2020-09-11T10:10:08.161034Z"
        },
        "id": "og_n_SqilGJr",
        "outputId": "590b3a87-fff0-41d1-e22e-92b1f342fd15",
        "colab": {
          "base_uri": "https://localhost:8080/",
          "height": 452
        }
      },
      "outputs": [
        {
          "output_type": "display_data",
          "data": {
            "text/plain": [
              "<Figure size 640x480 with 1 Axes>"
            ],
            "image/png": "[encoded data removed]"
          },
          "metadata": {}
        }
      ],
      "source": [
        "import random\n",
        "import matplotlib.pyplot as plt\n",
        "\n",
        "ix = random.randint(0, len(train_imgs))\n",
        "img, label = train_imgs[ix], train_labels[ix]\n",
        "\n",
        "plt.imshow(img)\n",
        "plt.title(classes[label])\n",
        "plt.show()"
      ]
    },
    {
      "cell_type": "markdown",
      "metadata": {
        "id": "IGa1nV7rlGJr"
      },
      "source": [
        "Ahora, vamos a aplicar un filtro definido manualmente a esta imagen. En este caso aplicaremos un filtro de 3x3 con valores de 1 en la primera fila, 0 en la central y -1 en la última. Como puedes ver en el resultado, este filtro es útil para identificar líneas horizontales."
      ]
    },
    {
      "cell_type": "code",
      "execution_count": 5,
      "metadata": {
        "ExecuteTime": {
          "end_time": "2020-09-11T10:11:30.421738Z",
          "start_time": "2020-09-11T10:11:30.215641Z"
        },
        "id": "C0rFQQ0UlGJr",
        "outputId": "8bf9550e-30aa-4da9-94ff-8956c1d1f554",
        "colab": {
          "base_uri": "https://localhost:8080/",
          "height": 412
        }
      },
      "outputs": [
        {
          "output_type": "display_data",
          "data": {
            "text/plain": [
              "<Figure size 1000x500 with 2 Axes>"
            ],
            "image/png": "[encoded data removed]"
          },
          "metadata": {}
        }
      ],
      "source": [
        "import numpy as np\n",
        "import scipy.signal\n",
        "from skimage import color\n",
        "from skimage import exposure\n",
        "\n",
        "img = color.rgb2gray(img)\n",
        "\n",
        "kernel = np.array([[1,1,1],\n",
        "                   [0,0,0],\n",
        "                   [-1,-1,-1]])\n",
        "\n",
        "edges = scipy.signal.convolve2d(img, kernel, 'valid')\n",
        "edges = exposure.equalize_adapthist(edges/np.max(np.abs(edges)), clip_limit=0.03)\n",
        "\n",
        "fig, (ax1, ax2) = plt.subplots(1, 2, figsize=(10,5))\n",
        "ax1.imshow(img, cmap=plt.cm.gray)\n",
        "ax2.imshow(edges, cmap=plt.cm.gray)\n",
        "plt.show()"
      ]
    },
    {
      "cell_type": "markdown",
      "metadata": {
        "id": "bA6FCBVylGJs"
      },
      "source": [
        "Si aplicamos ahora el mismo filtro, pero transpuesto, obtenemos un detector de líneas verticales."
      ]
    },
    {
      "cell_type": "code",
      "execution_count": 6,
      "metadata": {
        "ExecuteTime": {
          "end_time": "2020-09-11T10:12:01.970740Z",
          "start_time": "2020-09-11T10:12:01.770223Z"
        },
        "id": "LXik9s90lGJs",
        "outputId": "fa3f8627-9e40-4b9a-e562-a97fb1e7b525",
        "colab": {
          "base_uri": "https://localhost:8080/",
          "height": 412
        }
      },
      "outputs": [
        {
          "output_type": "display_data",
          "data": {
            "text/plain": [
              "<Figure size 1000x500 with 2 Axes>"
            ],
            "image/png": "[encoded data removed]"
          },
          "metadata": {}
        }
      ],
      "source": [
        "kernel = np.array([[1,0,-1],\n",
        "                   [1,0,-1],\n",
        "                   [1,0,-1]])\n",
        "\n",
        "edges = scipy.signal.convolve2d(img, kernel, 'valid')\n",
        "edges = exposure.equalize_adapthist(edges/np.max(np.abs(edges)), clip_limit=0.03)\n",
        "\n",
        "fig, (ax1, ax2) = plt.subplots(1, 2, figsize=(10,5))\n",
        "ax1.imshow(img, cmap=plt.cm.gray)\n",
        "ax2.imshow(edges, cmap=plt.cm.gray)\n",
        "plt.show()"
      ]
    },
    {
      "cell_type": "markdown",
      "metadata": {
        "id": "p0WfoE1NlGJs"
      },
      "source": [
        "De la misma manera, el siguiente filtro será útil para detectar bordes en cualquier orientación."
      ]
    },
    {
      "cell_type": "code",
      "execution_count": 7,
      "metadata": {
        "ExecuteTime": {
          "end_time": "2020-09-11T10:12:43.521901Z",
          "start_time": "2020-09-11T10:12:43.332821Z"
        },
        "id": "4hW3TQW1lGJs",
        "outputId": "30b076de-7d2b-4908-f9b2-cc4f8a2ad20a",
        "colab": {
          "base_uri": "https://localhost:8080/",
          "height": 412
        }
      },
      "outputs": [
        {
          "output_type": "display_data",
          "data": {
            "text/plain": [
              "<Figure size 1000x500 with 2 Axes>"
            ],
            "image/png": "[encoded data removed]"
          },
          "metadata": {}
        }
      ],
      "source": [
        "kernel = np.array([[0,-1,0],\n",
        "                   [-1,4,-1],\n",
        "                   [0,-1,0]])\n",
        "\n",
        "edges = scipy.signal.convolve2d(img, kernel, 'valid')\n",
        "edges = exposure.equalize_adapthist(edges/np.max(np.abs(edges)), clip_limit=0.03)\n",
        "\n",
        "fig, (ax1, ax2) = plt.subplots(1, 2, figsize=(10,5))\n",
        "ax1.imshow(img, cmap=plt.cm.gray)\n",
        "ax2.imshow(edges, cmap=plt.cm.gray)\n",
        "plt.show()"
      ]
    },
    {
      "cell_type": "markdown",
      "metadata": {
        "id": "9qfwtNfJlGJs"
      },
      "source": [
        "Como puedes ver, al aplicar varios filtros a nuestra imagen podemos obtener información relevante a la hora de llevar a cabo tareas tales como la clasificación de la imagen, detectar varios objetos en ella o generar una descripción textual de la misma. La pregunta ahora es: ¿Y cómo decidimos que filtros utilizar? La respuesta es fácil, dejaremos que sea la propia red neuronal quién aprenda estos valores a través del proceso de entrenamiento de manera que sea ella misma quien decida qué patrones son los más importantes a la hora de llevar a cabo su tarea. Así pues, los filtros serán ahora los parámetros de nuestra red."
      ]
    },
    {
      "cell_type": "markdown",
      "metadata": {
        "id": "Ai8XkWMOlGJt"
      },
      "source": [
        "### Implementación en Pytorch"
      ]
    },
    {
      "cell_type": "markdown",
      "metadata": {
        "id": "GWmdz26slGJt"
      },
      "source": [
        "En `Pytorch` tenemos implementada la capa convolucional en el clase `torch.nn.Conv2D`. A esta capa le pasamos como parámetros el número de canales de la imagen a la entrada, el número de filtros, el tamaño del filtro y otros parámetros relevantes de los que hablaremos más adelante. Si miras en la [documentación](https://pytorch.org/docs/stable/generated/torch.nn.Conv2d.html), esta capa espera un tensor a la entrada con dimensiones $(N,C_{in},H,W)$, dónde $N$ es el tamaño del *batch*, $C_{in}$ es el número de canales del mapa de entrada, $H$ es el alto y $W$ el ancho del mapa."
      ]
    },
    {
      "cell_type": "code",
      "execution_count": 8,
      "metadata": {
        "ExecuteTime": {
          "end_time": "2020-09-11T10:16:47.324342Z",
          "start_time": "2020-09-11T10:16:47.218303Z"
        },
        "id": "g-tYvGmVlGJt",
        "outputId": "00a772ec-4741-40b4-d127-3305f8e696e6",
        "colab": {
          "base_uri": "https://localhost:8080/",
          "height": 452
        }
      },
      "outputs": [
        {
          "output_type": "display_data",
          "data": {
            "text/plain": [
              "<Figure size 640x480 with 1 Axes>"
            ],
            "image/png": "[encoded data removed]"
          },
          "metadata": {}
        }
      ],
      "source": [
        "ix = random.randint(0, len(train_imgs))\n",
        "img, label = train_imgs[ix], train_labels[ix]\n",
        "\n",
        "plt.imshow(img)\n",
        "plt.title(classes[label])\n",
        "plt.show()"
      ]
    },
    {
      "cell_type": "code",
      "execution_count": 9,
      "metadata": {
        "ExecuteTime": {
          "end_time": "2020-09-11T10:21:46.977196Z",
          "start_time": "2020-09-11T10:21:46.973198Z"
        },
        "id": "O5uv-15NlGJt",
        "outputId": "e4489117-6786-4a6f-9835-96a74f76d4e0",
        "colab": {
          "base_uri": "https://localhost:8080/"
        }
      },
      "outputs": [
        {
          "output_type": "execute_result",
          "data": {
            "text/plain": [
              "(torch.Size([1, 3, 32, 32]), torch.float32)"
            ]
          },
          "metadata": {},
          "execution_count": 9
        }
      ],
      "source": [
        "# convertir la imágen en tensor con dimensiones (N, C_in, H, W)\n",
        "\n",
        "img_tensor = torch.from_numpy(img / 255.).unsqueeze(0)\n",
        "img_tensor = img_tensor.permute(0, 3, 1, 2).float()\n",
        "\n",
        "img_tensor.shape, img_tensor.dtype"
      ]
    },
    {
      "cell_type": "code",
      "execution_count": 10,
      "metadata": {
        "ExecuteTime": {
          "end_time": "2020-09-11T10:22:21.819195Z",
          "start_time": "2020-09-11T10:22:21.813197Z"
        },
        "id": "dW7FyxyvlGJu",
        "outputId": "515a4318-b430-45f8-d3d9-4e9322133c3c",
        "colab": {
          "base_uri": "https://localhost:8080/"
        }
      },
      "outputs": [
        {
          "output_type": "execute_result",
          "data": {
            "text/plain": [
              "torch.Size([1, 10, 30, 30])"
            ]
          },
          "metadata": {},
          "execution_count": 10
        }
      ],
      "source": [
        "# aplicamos 10 filtros de tamaño 3x3\n",
        "\n",
        "conv = torch.nn.Conv2d(in_channels = 3, out_channels = 10, kernel_size = 3)\n",
        "\n",
        "output = conv(img_tensor)\n",
        "\n",
        "# dimensiones: (N, #filtros, H', W')\n",
        "output.shape"
      ]
    },
    {
      "cell_type": "markdown",
      "metadata": {
        "id": "i_EEjfcKlGJu"
      },
      "source": [
        "Como puedes ver las dimensiones del tensor de salida son diferentes al tensor de entrada. En primer lugar, el número de canales del mapa de entrada ahora es el número de filtros aplicados (el resultado de aplicar cada filtro se guarda en un canal). En cuanto al ancho y alto, dependerá de la relación entre el tamaño de la imagen y el del filtro. Puedes calcular estas dimensiones de la siguiente manera\n",
        "\n",
        "$$ o = \\lfloor \\frac{n+2p-m}{s} \\rfloor + 1 $$\n",
        "\n",
        "donde $o$ es la dimensión de salida, $n$ la de entrada, $m$ es el tamaño del filtro y $p$ y $s$ son dos parámetros con los que podemos jugar para ajustar el tamaño de salida. $p$ es el *padding* y consiste en el número de valores extra que añadimos en los bordes para aumentar el tamaño de la entrada. $s$ es el *stride*, y controla el número de pixeles que el filtro salta en cada paso. $\\lfloor \\cdot \\rfloor$ es el operador *floor*, que redondea cualquier resultado a la baja.\n",
        "\n",
        "Usar $p = 1$ y $s = 1$ con un filtro de 3x3 no cambiará el tamaño de la imagen."
      ]
    },
    {
      "cell_type": "code",
      "execution_count": 11,
      "metadata": {
        "ExecuteTime": {
          "end_time": "2020-09-11T10:28:30.014445Z",
          "start_time": "2020-09-11T10:28:30.007445Z"
        },
        "id": "Trv1ViCPlGJu",
        "outputId": "287f4417-f751-465b-a145-74268d4825fc",
        "colab": {
          "base_uri": "https://localhost:8080/"
        }
      },
      "outputs": [
        {
          "output_type": "execute_result",
          "data": {
            "text/plain": [
              "torch.Size([1, 10, 32, 32])"
            ]
          },
          "metadata": {},
          "execution_count": 11
        }
      ],
      "source": [
        "conv = torch.nn.Conv2d(in_channels = 3, out_channels = 10, kernel_size = 3, padding = 1, stride = 1)\n",
        "\n",
        "output = conv(img_tensor)\n",
        "\n",
        "# dimensiones: (N, #filtros, H', W')\n",
        "output.shape"
      ]
    },
    {
      "cell_type": "markdown",
      "metadata": {
        "id": "i-cKkNVKlGJu"
      },
      "source": [
        "Aplicar un salto de 2 pixeles en la aplicación del filtro, $s = 2$, reducirá el tamaño a la mitad."
      ]
    },
    {
      "cell_type": "code",
      "execution_count": 12,
      "metadata": {
        "ExecuteTime": {
          "end_time": "2020-09-11T10:29:03.962582Z",
          "start_time": "2020-09-11T10:29:03.956582Z"
        },
        "id": "-2swVtlnlGJv",
        "outputId": "3ba02784-4f1c-4488-ae4b-8c9612e4f22e",
        "colab": {
          "base_uri": "https://localhost:8080/"
        }
      },
      "outputs": [
        {
          "output_type": "execute_result",
          "data": {
            "text/plain": [
              "torch.Size([1, 10, 16, 16])"
            ]
          },
          "metadata": {},
          "execution_count": 12
        }
      ],
      "source": [
        "conv = torch.nn.Conv2d(in_channels = 3, out_channels = 10, kernel_size = 3, padding = 1, stride = 2)\n",
        "\n",
        "output = conv(img_tensor)\n",
        "\n",
        "# dimensiones: (N, #filtros, H', W')\n",
        "output.shape"
      ]
    },
    {
      "cell_type": "markdown",
      "metadata": {
        "id": "GL_FHqXAlGJv"
      },
      "source": [
        "En una `red convolucional` tendremos varias de estas `capas convolucionales` en diferentes capas consecutivas, de manera que las entradas a unas capas serán las salidas de las anteriores. De esta manera, la red será capaz de construir patrones cada vez más elaborados a partir de patrones más sencillos. Puedes ver una animación del funcionamiento de esta capa en el siguiente [vídeo](https://www.youtube.com/watch?v=f0t-OCG79-U). También, en el siguiente gif, puedes ver un ejemplo de aplicación.\n",
        "\n",
        "![](https://thumbs.gfycat.com/AffectionateMemorableGreyhounddog-size_restricted.gif)\n"
      ]
    },
    {
      "cell_type": "markdown",
      "metadata": {
        "id": "yfuwp20alGJv"
      },
      "source": [
        "## Capas de *Pooling*"
      ]
    },
    {
      "cell_type": "markdown",
      "metadata": {
        "id": "p5gVEUuOlGJv"
      },
      "source": [
        "Si bien hemos visto que jugando con los tamaños del filtro, *stride* y *padding* podemos controlar el tamaño de los mapas generados por las capas convolucionales, es también común el uso de capas *pooling* para reducir los mapas de características.\n",
        "\n",
        "![](https://miro.medium.com/max/1456/1*WvHC5bKyrHa7Wm3ca-pXtg.gif)\n",
        "\n",
        "Estas capas también aplican un filtro sobre su entrada, pero en este caso es un solo filtro que además no tiene parámetros sino que aplica una función predeterminada en su campo receptivo (mínimo, máximo, promedio, etc). La idea detrás del uso de este tipo de capas es la de reducir la resolución de los mapas de características, reduciendo así el coste computacional para entrenar la `red neuronal`, pero manteniendo las características importantes para el reconocimiento de patrones."
      ]
    },
    {
      "cell_type": "code",
      "execution_count": 13,
      "metadata": {
        "ExecuteTime": {
          "end_time": "2020-09-11T10:36:02.735039Z",
          "start_time": "2020-09-11T10:36:02.631352Z"
        },
        "id": "nRZy0hrOlGJv",
        "outputId": "1deab1cc-ceee-42da-84de-a621461755fe",
        "colab": {
          "base_uri": "https://localhost:8080/",
          "height": 452
        }
      },
      "outputs": [
        {
          "output_type": "display_data",
          "data": {
            "text/plain": [
              "<Figure size 640x480 with 1 Axes>"
            ],
            "image/png": "[encoded data removed]"
          },
          "metadata": {}
        }
      ],
      "source": [
        "ix = random.randint(0, len(train_imgs))\n",
        "img, label = train_imgs[ix], train_labels[ix]\n",
        "\n",
        "plt.imshow(img)\n",
        "plt.title(classes[label])\n",
        "plt.show()"
      ]
    },
    {
      "cell_type": "code",
      "execution_count": 14,
      "metadata": {
        "ExecuteTime": {
          "end_time": "2020-09-11T10:36:29.355312Z",
          "start_time": "2020-09-11T10:36:29.336666Z"
        },
        "id": "YnXNmv63lGJw",
        "outputId": "75f8c67f-face-4381-cb9b-2ff7b8840ca0",
        "colab": {
          "base_uri": "https://localhost:8080/"
        }
      },
      "outputs": [
        {
          "output_type": "execute_result",
          "data": {
            "text/plain": [
              "torch.Size([1, 3, 16, 16])"
            ]
          },
          "metadata": {},
          "execution_count": 14
        }
      ],
      "source": [
        "pool = torch.nn.MaxPool2d(3, padding=1, stride=2)\n",
        "\n",
        "img_tensor = torch.from_numpy(img / 255.).unsqueeze(0).permute(0, 3, 1, 2).float()\n",
        "output = pool(img_tensor)\n",
        "output.shape"
      ]
    },
    {
      "cell_type": "code",
      "execution_count": 15,
      "metadata": {
        "ExecuteTime": {
          "end_time": "2020-09-11T10:36:41.436312Z",
          "start_time": "2020-09-11T10:36:41.338315Z"
        },
        "id": "3g8mM_t1lGJw",
        "outputId": "9e7b16d7-86fe-4b89-cc8f-cabc0d57d9f4",
        "colab": {
          "base_uri": "https://localhost:8080/",
          "height": 430
        }
      },
      "outputs": [
        {
          "output_type": "display_data",
          "data": {
            "text/plain": [
              "<Figure size 640x480 with 1 Axes>"
            ],
            "image/png": "[encoded data removed]"
          },
          "metadata": {}
        }
      ],
      "source": [
        "plt.imshow(output.squeeze(0).permute(1,2,0))\n",
        "plt.show()"
      ]
    },
    {
      "cell_type": "markdown",
      "metadata": {
        "id": "01ENadNMlGJw"
      },
      "source": [
        "## Redes Convolucionales"
      ]
    },
    {
      "cell_type": "markdown",
      "metadata": {
        "id": "ZK33qknklGJw"
      },
      "source": [
        "Una vez hemos visto los comoponentes principales de las `redes convolucionales` vamos a ver un ejemplo de cómo podemos implementar una red convolucional completa para, en este caso, la clasificación de las imágenes en el dataset MNIST. En primer lugar descargamos el dataset."
      ]
    },
    {
      "cell_type": "code",
      "execution_count": 16,
      "metadata": {
        "ExecuteTime": {
          "end_time": "2020-09-11T11:12:49.010456Z",
          "start_time": "2020-09-11T11:12:48.984456Z"
        },
        "id": "oLFD8mxClGJw",
        "outputId": "76c73f17-9da5-4e29-a55b-e2ba6da91dce",
        "colab": {
          "base_uri": "https://localhost:8080/"
        }
      },
      "outputs": [
        {
          "output_type": "stream",
          "name": "stdout",
          "text": [
            "Downloading http://yann.lecun.com/exdb/mnist/train-images-idx3-ubyte.gz\n",
            "Failed to download (trying next):\n",
            "HTTP Error 404: Not Found\n",
            "\n",
            "Downloading https://ossci-datasets.s3.amazonaws.com/mnist/train-images-idx3-ubyte.gz\n",
            "Downloading https://ossci-datasets.s3.amazonaws.com/mnist/train-images-idx3-ubyte.gz to ../data/MNIST/raw/train-images-idx3-ubyte.gz\n"
          ]
        },
        {
          "output_type": "stream",
          "name": "stderr",
          "text": [
            "100%|██████████| 9.91M/9.91M [00:00<00:00, 15.4MB/s]\n"
          ]
        },
        {
          "output_type": "stream",
          "name": "stdout",
          "text": [
            "Extracting ../data/MNIST/raw/train-images-idx3-ubyte.gz to ../data/MNIST/raw\n",
            "\n",
            "Downloading http://yann.lecun.com/exdb/mnist/train-labels-idx1-ubyte.gz\n",
            "Failed to download (trying next):\n",
            "HTTP Error 404: Not Found\n",
            "\n",
            "Downloading https://ossci-datasets.s3.amazonaws.com/mnist/train-labels-idx1-ubyte.gz\n",
            "Downloading https://ossci-datasets.s3.amazonaws.com/mnist/train-labels-idx1-ubyte.gz to ../data/MNIST/raw/train-labels-idx1-ubyte.gz\n"
          ]
        },
        {
          "output_type": "stream",
          "name": "stderr",
          "text": [
            "100%|██████████| 28.9k/28.9k [00:00<00:00, 457kB/s]\n"
          ]
        },
        {
          "output_type": "stream",
          "name": "stdout",
          "text": [
            "Extracting ../data/MNIST/raw/train-labels-idx1-ubyte.gz to ../data/MNIST/raw\n",
            "\n",
            "Downloading http://yann.lecun.com/exdb/mnist/t10k-images-idx3-ubyte.gz\n",
            "Failed to download (trying next):\n",
            "HTTP Error 404: Not Found\n",
            "\n",
            "Downloading https://ossci-datasets.s3.amazonaws.com/mnist/t10k-images-idx3-ubyte.gz\n",
            "Downloading https://ossci-datasets.s3.amazonaws.com/mnist/t10k-images-idx3-ubyte.gz to ../data/MNIST/raw/t10k-images-idx3-ubyte.gz\n"
          ]
        },
        {
          "output_type": "stream",
          "name": "stderr",
          "text": [
            "100%|██████████| 1.65M/1.65M [00:00<00:00, 4.20MB/s]\n"
          ]
        },
        {
          "output_type": "stream",
          "name": "stdout",
          "text": [
            "Extracting ../data/MNIST/raw/t10k-images-idx3-ubyte.gz to ../data/MNIST/raw\n",
            "\n",
            "Downloading http://yann.lecun.com/exdb/mnist/t10k-labels-idx1-ubyte.gz\n",
            "Failed to download (trying next):\n",
            "HTTP Error 404: Not Found\n",
            "\n",
            "Downloading https://ossci-datasets.s3.amazonaws.com/mnist/t10k-labels-idx1-ubyte.gz\n",
            "Downloading https://ossci-datasets.s3.amazonaws.com/mnist/t10k-labels-idx1-ubyte.gz to ../data/MNIST/raw/t10k-labels-idx1-ubyte.gz\n"
          ]
        },
        {
          "output_type": "stream",
          "name": "stderr",
          "text": [
            "100%|██████████| 4.54k/4.54k [00:00<00:00, 7.78MB/s]"
          ]
        },
        {
          "output_type": "stream",
          "name": "stdout",
          "text": [
            "Extracting ../data/MNIST/raw/t10k-labels-idx1-ubyte.gz to ../data/MNIST/raw\n",
            "\n"
          ]
        },
        {
          "output_type": "stream",
          "name": "stderr",
          "text": [
            "\n"
          ]
        }
      ],
      "source": [
        "dataloader = {\n",
        "    'train': torch.utils.data.DataLoader(torchvision.datasets.MNIST('../data', train=True, download=True,\n",
        "                       transform=torchvision.transforms.Compose([\n",
        "                            torchvision.transforms.ToTensor(),\n",
        "                            torchvision.transforms.Normalize((0.1307,), (0.3081,))\n",
        "                            ])\n",
        "                      ), batch_size=64, shuffle=True, pin_memory=True),\n",
        "    'test': torch.utils.data.DataLoader(torchvision.datasets.MNIST('../data', train=False,\n",
        "                   transform=torchvision.transforms.Compose([\n",
        "                        torchvision.transforms.ToTensor(),\n",
        "                        torchvision.transforms.Normalize((0.1307,), (0.3081,))\n",
        "                        ])\n",
        "                     ), batch_size=64, shuffle=False, pin_memory=True)\n",
        "}"
      ]
    },
    {
      "cell_type": "markdown",
      "metadata": {
        "id": "ah397te0lGJ8"
      },
      "source": [
        "Vamos a definir una `red convolucional` con varias `capas convolucionales` y `capas de pooling`. Para poder clasificar las imágenes, conectaremos las salidas de la última capa de la red convolucional con un `MLP` para obtener las predicciones finales."
      ]
    },
    {
      "cell_type": "code",
      "execution_count": 17,
      "metadata": {
        "ExecuteTime": {
          "end_time": "2020-09-11T10:56:58.781104Z",
          "start_time": "2020-09-11T10:56:58.774102Z"
        },
        "id": "DQkE0G5LlGJ8"
      },
      "outputs": [],
      "source": [
        "def block(c_in, c_out, k=3, p=1, s=1, pk=2, ps=2):\n",
        "    return torch.nn.Sequential(\n",
        "        torch.nn.Conv2d(c_in, c_out, k, padding=p, stride=s),\n",
        "        torch.nn.ReLU(),\n",
        "        torch.nn.MaxPool2d(pk, stride=ps)\n",
        "    )\n",
        "\n",
        "def block2(c_in, c_out):\n",
        "    return torch.nn.Sequential(\n",
        "        torch.nn.Linear(c_in, c_out),\n",
        "        torch.nn.ReLU()\n",
        "    )\n",
        "\n",
        "class CNN(torch.nn.Module):\n",
        "  def __init__(self, n_channels=1, n_outputs=10):\n",
        "    super().__init__()\n",
        "    self.conv1 = block(n_channels, 64)\n",
        "    self.conv2 = block(64, 128)\n",
        "    self.fc = torch.nn.Linear(128*7*7, n_outputs)\n",
        "\n",
        "  def forward(self, x):\n",
        "    print(\"Dimensiones:\")\n",
        "    print(\"Entrada: \", x.shape)\n",
        "    x = self.conv1(x)\n",
        "    print(\"conv1: \", x.shape)\n",
        "    x = self.conv2(x)\n",
        "    print(\"conv2: \", x.shape)\n",
        "    x = x.view(x.shape[0], -1)\n",
        "    print(\"pre fc: \", x.shape)\n",
        "    x = self.fc(x)\n",
        "    print(\"Salida: \", x.shape)\n",
        "    return x"
      ]
    },
    {
      "cell_type": "code",
      "execution_count": 18,
      "metadata": {
        "ExecuteTime": {
          "end_time": "2020-09-11T10:56:58.919115Z",
          "start_time": "2020-09-11T10:56:58.891112Z"
        },
        "id": "qqLk3uzmlGJ8",
        "outputId": "be4689f1-2f22-45e3-c28f-3a564f4bac58",
        "colab": {
          "base_uri": "https://localhost:8080/"
        }
      },
      "outputs": [
        {
          "output_type": "stream",
          "name": "stdout",
          "text": [
            "Dimensiones:\n",
            "Entrada:  torch.Size([64, 1, 28, 28])\n",
            "conv1:  torch.Size([64, 64, 14, 14])\n",
            "conv2:  torch.Size([64, 128, 7, 7])\n",
            "pre fc:  torch.Size([64, 6272])\n",
            "Salida:  torch.Size([64, 10])\n"
          ]
        }
      ],
      "source": [
        "model = CNN()\n",
        "\n",
        "output = model(torch.randn(64, 1, 28, 28))"
      ]
    },
    {
      "cell_type": "markdown",
      "metadata": {
        "id": "WnsxxGqSlGJ8"
      },
      "source": [
        "Utilizando capas convolucionales con filtros de 3x3, *padding* 1 y *stride* 1, mantenemos las dimensiones constantes dejando la responsabilidad de reducir la resolución a las capas *pooling*. Tras cada capa convolcuional, el número de canales corresponde con el número de filtros aplicados. Para conectar la última salida de la capa convolucional a la capa lineal, tenemos que estirar el último mapa de características en un vector de una sola dimensión."
      ]
    },
    {
      "cell_type": "code",
      "execution_count": 19,
      "metadata": {
        "ExecuteTime": {
          "end_time": "2020-09-11T10:56:59.127674Z",
          "start_time": "2020-09-11T10:56:59.123674Z"
        },
        "id": "Qvrich0ulGJ9"
      },
      "outputs": [],
      "source": [
        "class CNN(torch.nn.Module):\n",
        "  def __init__(self, n_channels=1, n_outputs=10):\n",
        "    super().__init__()\n",
        "    self.conv1 = block(n_channels, 64)\n",
        "    self.conv2 = block(64, 128)\n",
        "    self.fc = torch.nn.Linear(128*7*7, n_outputs)\n",
        "\n",
        "  def forward(self, x):\n",
        "    x = self.conv1(x)\n",
        "    x = self.conv2(x)\n",
        "    x = x.view(x.shape[0], -1)\n",
        "    x = self.fc(x)\n",
        "    return x"
      ]
    },
    {
      "cell_type": "markdown",
      "metadata": {
        "id": "OnOwjK5MlGJ9"
      },
      "source": [
        "Ahora, podemos entrenar la red utilizando nuestro bucle de entrenamiento."
      ]
    },
    {
      "cell_type": "code",
      "execution_count": 20,
      "metadata": {
        "ExecuteTime": {
          "end_time": "2020-09-11T10:56:59.376687Z",
          "start_time": "2020-09-11T10:56:59.369674Z"
        },
        "code_folding": [],
        "id": "9nO-0hcDlGJ9"
      },
      "outputs": [],
      "source": [
        "from tqdm import tqdm\n",
        "import numpy as np\n",
        "\n",
        "def fit(model, dataloader, epochs=5):\n",
        "    model.to(device)\n",
        "    optimizer = torch.optim.Adam(model.parameters(), lr=1e-3)\n",
        "    criterion = torch.nn.CrossEntropyLoss()\n",
        "    for epoch in range(1, epochs+1):\n",
        "        model.train()\n",
        "        train_loss, train_acc = [], []\n",
        "        bar = tqdm(dataloader['train'])\n",
        "        for batch in bar:\n",
        "            X, y = batch\n",
        "            X, y = X.to(device), y.to(device)\n",
        "            optimizer.zero_grad()\n",
        "            y_hat = model(X)\n",
        "            loss = criterion(y_hat, y)\n",
        "            loss.backward()\n",
        "            optimizer.step()\n",
        "            train_loss.append(loss.item())\n",
        "            acc = (y == torch.argmax(y_hat, axis=1)).sum().item() / len(y)\n",
        "            train_acc.append(acc)\n",
        "            bar.set_description(f\"loss {np.mean(train_loss):.5f} acc {np.mean(train_acc):.5f}\")\n",
        "        bar = tqdm(dataloader['test'])\n",
        "        val_loss, val_acc = [], []\n",
        "        model.eval()\n",
        "        with torch.no_grad():\n",
        "            for batch in bar:\n",
        "                X, y = batch\n",
        "                X, y = X.to(device), y.to(device)\n",
        "                y_hat = model(X)\n",
        "                loss = criterion(y_hat, y)\n",
        "                val_loss.append(loss.item())\n",
        "                acc = (y == torch.argmax(y_hat, axis=1)).sum().item() / len(y)\n",
        "                val_acc.append(acc)\n",
        "                bar.set_description(f\"val_loss {np.mean(val_loss):.5f} val_acc {np.mean(val_acc):.5f}\")\n",
        "        print(f\"Epoch {epoch}/{epochs} loss {np.mean(train_loss):.5f} val_loss {np.mean(val_loss):.5f} acc {np.mean(train_acc):.5f} val_acc {np.mean(val_acc):.5f}\")"
      ]
    },
    {
      "cell_type": "code",
      "execution_count": 21,
      "metadata": {
        "ExecuteTime": {
          "end_time": "2020-09-11T10:58:32.330170Z",
          "start_time": "2020-09-11T10:56:59.487673Z"
        },
        "id": "RHTh0EBwlGJ9",
        "outputId": "bfef767a-19d6-4cfa-b60c-61e0d79d4b9a",
        "colab": {
          "base_uri": "https://localhost:8080/"
        }
      },
      "outputs": [
        {
          "output_type": "stream",
          "name": "stderr",
          "text": [
            "loss 0.12061 acc 0.96332: 100%|██████████| 938/938 [00:19<00:00, 47.85it/s]\n",
            "val_loss 0.03878 val_acc 0.98756: 100%|██████████| 157/157 [00:02<00:00, 67.39it/s]\n"
          ]
        },
        {
          "output_type": "stream",
          "name": "stdout",
          "text": [
            "Epoch 1/5 loss 0.12061 val_loss 0.03878 acc 0.96332 val_acc 0.98756\n"
          ]
        },
        {
          "output_type": "stream",
          "name": "stderr",
          "text": [
            "loss 0.04228 acc 0.98657: 100%|██████████| 938/938 [00:18<00:00, 51.10it/s]\n",
            "val_loss 0.02989 val_acc 0.99114: 100%|██████████| 157/157 [00:02<00:00, 65.94it/s]\n"
          ]
        },
        {
          "output_type": "stream",
          "name": "stdout",
          "text": [
            "Epoch 2/5 loss 0.04228 val_loss 0.02989 acc 0.98657 val_acc 0.99114\n"
          ]
        },
        {
          "output_type": "stream",
          "name": "stderr",
          "text": [
            "loss 0.02827 acc 0.99080: 100%|██████████| 938/938 [00:17<00:00, 52.87it/s]\n",
            "val_loss 0.03778 val_acc 0.98875: 100%|██████████| 157/157 [00:02<00:00, 53.61it/s]\n"
          ]
        },
        {
          "output_type": "stream",
          "name": "stdout",
          "text": [
            "Epoch 3/5 loss 0.02827 val_loss 0.03778 acc 0.99080 val_acc 0.98875\n"
          ]
        },
        {
          "output_type": "stream",
          "name": "stderr",
          "text": [
            "loss 0.02115 acc 0.99342: 100%|██████████| 938/938 [00:17<00:00, 52.61it/s]\n",
            "val_loss 0.03241 val_acc 0.99055: 100%|██████████| 157/157 [00:02<00:00, 65.24it/s]\n"
          ]
        },
        {
          "output_type": "stream",
          "name": "stdout",
          "text": [
            "Epoch 4/5 loss 0.02115 val_loss 0.03241 acc 0.99342 val_acc 0.99055\n"
          ]
        },
        {
          "output_type": "stream",
          "name": "stderr",
          "text": [
            "loss 0.01581 acc 0.99497: 100%|██████████| 938/938 [00:18<00:00, 51.12it/s]\n",
            "val_loss 0.02905 val_acc 0.99114: 100%|██████████| 157/157 [00:02<00:00, 66.71it/s]"
          ]
        },
        {
          "output_type": "stream",
          "name": "stdout",
          "text": [
            "Epoch 5/5 loss 0.01581 val_loss 0.02905 acc 0.99497 val_acc 0.99114\n"
          ]
        },
        {
          "output_type": "stream",
          "name": "stderr",
          "text": [
            "\n"
          ]
        }
      ],
      "source": [
        "model = CNN()\n",
        "fit(model, dataloader)"
      ]
    },
    {
      "cell_type": "markdown",
      "metadata": {
        "id": "GrjGc4GLlGJ-"
      },
      "source": [
        "Tras 5 *epochs* nuestra CNN es capaz de clasificar las imágenes en el dataset de test con una precisión cercana al $99 \\%$, aunque como puedes observar tenemos *overfitting*. Puedes aplicar varias de las técnicas explicadas en este [post](https://sensioai.com/blog/031_regularization) para reducir este efecto e intentar conseguir un mejor modelo.\n",
        "\n",
        "¿Cómo decidimos el número de capas?, ¿y el tamaño de los filtros, *padding*, *stride*, ...? Tenemos muchos valores con los que jugar, y llevar a cabo una exploración efectiva puede ser costoso. Es por esto que, a efectos prácticos, los mejor es utilizar configuraciones ya exploradas por otros (en ocasiones incluso podremos usar estas redes ya entrenadas para hacer *transfer learning*) y adaptarlas para nuestro caso concreto."
      ]
    },
    {
      "cell_type": "markdown",
      "metadata": {
        "heading_collapsed": true,
        "id": "bDJeJjUqlGJ-"
      },
      "source": [
        "## Resumen"
      ]
    },
    {
      "cell_type": "markdown",
      "metadata": {
        "hidden": true,
        "id": "VH4xPK5nlGJ-"
      },
      "source": [
        "En este post hemos introducido la arquitectura de `red neuronal` conocida como `red neuronal convolucional`. Este tipo de redes, inspiradas en el funcionamiento del córtex visual, están especialmente diseñadas para trabajar con imágenes. Gracias a la aplicación de la `capa convolucional`, la red será capaz de reconocer diferentes formas, colores y texturas que, de manera jerárquica, irá componiendo en estructuras cada vez más complejas para poder llevar a cabo su tarea de la mejor forma posible. En futuros posts hablaremos sobre diferente arquitecturas de CNN que han aparecido durante los últimos años y que podemos utilizar para nuestras aplicaciones."
      ]
    },
    {
      "cell_type": "code",
      "source": [],
      "metadata": {
        "id": "vbxEPh0Hyvzk"
      },
      "execution_count": null,
      "outputs": []
    }
  ],
  "metadata": {
    "accelerator": "GPU",
    "colab": {
      "name": "cnns.ipynb",
      "provenance": [],
      "include_colab_link": true
    },
    "kernelspec": {
      "display_name": "Python 3",
      "language": "python",
      "name": "python3"
    },
    "language_info": {
      "codemirror_mode": {
        "name": "ipython",
        "version": 3
      },
      "file_extension": ".py",
      "mimetype": "text/x-python",
      "name": "python",
      "nbconvert_exporter": "python",
      "pygments_lexer": "ipython3",
      "version": "3.8.2"
    },
    "toc": {
      "base_numbering": 1,
      "nav_menu": {},
      "number_sections": true,
      "sideBar": true,
      "skip_h1_title": false,
      "title_cell": "Table of Contents",
      "title_sidebar": "Contents",
      "toc_cell": false,
      "toc_position": {
        "height": "calc(100% - 180px)",
        "left": "10px",
        "top": "150px",
        "width": "233.594px"
      },
      "toc_section_display": true,
      "toc_window_display": false
    }
  },
  "nbformat": 4,
  "nbformat_minor": 0
}